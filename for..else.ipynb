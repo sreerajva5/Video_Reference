{
 "cells": [
  {
   "cell_type": "markdown",
   "metadata": {},
   "source": [
    "## for....else..."
   ]
  },
  {
   "cell_type": "code",
   "execution_count": 1,
   "metadata": {},
   "outputs": [],
   "source": [
    "list1 = [1, 2, 3, 0]\n",
    "\n",
    "list2 = [1, 2, 0, 3, 0]\n",
    "\n",
    "list3 = [1, 2, 3, 4]"
   ]
  },
  {
   "cell_type": "code",
   "execution_count": 2,
   "metadata": {},
   "outputs": [
    {
     "name": "stdout",
     "output_type": "stream",
     "text": [
      "zero in list1\n"
     ]
    }
   ],
   "source": [
    "# check if at least 1 zero exists in list1\n",
    "\n",
    "for i in list1:\n",
    "    if i == 0:\n",
    "        print('zero in list1')"
   ]
  },
  {
   "cell_type": "code",
   "execution_count": 4,
   "metadata": {},
   "outputs": [
    {
     "name": "stdout",
     "output_type": "stream",
     "text": [
      "zero in list2\n"
     ]
    }
   ],
   "source": [
    "# check if at least 1 zero exists in list2\n",
    "\n",
    "for i in list2:\n",
    "    if i == 0:\n",
    "        print('zero in list2')\n",
    "        break"
   ]
  },
  {
   "cell_type": "code",
   "execution_count": 7,
   "metadata": {},
   "outputs": [
    {
     "name": "stdout",
     "output_type": "stream",
     "text": [
      "no zeros in list3\n"
     ]
    }
   ],
   "source": [
    "# check if at least 1 zero exists in list3\n",
    "\n",
    "for i in list3:\n",
    "    if i == 0:\n",
    "        print('zero in list3')\n",
    "        break\n",
    "else:\n",
    "    print('no zeros in list3')"
   ]
  },
  {
   "cell_type": "code",
   "execution_count": null,
   "metadata": {},
   "outputs": [],
   "source": []
  }
 ],
 "metadata": {
  "kernelspec": {
   "display_name": "Python 3",
   "language": "python",
   "name": "python3"
  },
  "language_info": {
   "codemirror_mode": {
    "name": "ipython",
    "version": 3
   },
   "file_extension": ".py",
   "mimetype": "text/x-python",
   "name": "python",
   "nbconvert_exporter": "python",
   "pygments_lexer": "ipython3",
   "version": "3.8.5"
  }
 },
 "nbformat": 4,
 "nbformat_minor": 4
}
